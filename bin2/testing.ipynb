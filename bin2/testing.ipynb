{
 "cells": [
  {
   "cell_type": "code",
   "execution_count": 206,
   "metadata": {},
   "outputs": [],
   "source": [
    "import segment_maker\n",
    "from functools import reduce\n",
    "from copy import copy\n",
    "import mrdna\n",
    "import numpy as np\n",
    "\n",
    "\n",
    "def m13seq():\n",
    "    from functools import reduce\n",
    "    with open('../m13mp18.dat','r') as f:\n",
    "        data = f.readlines()\n",
    "    filtered = list(filter(lambda x : x[0] != ';',data))\n",
    "    stripped = list(map(lambda x : x.replace(' ','').replace('\\n',''), filtered))\n",
    "    accumulalted = str(reduce( lambda x,y : x + y, stripped, ''))\n",
    "    return accumulalted"
   ]
  },
  {
   "cell_type": "code",
   "execution_count": 207,
   "metadata": {},
   "outputs": [],
   "source": [
    "def get_strand_sequence(strand):\n",
    "    seg_sequences = []\n",
    "    for i in strand.strand_segments:\n",
    "        seg_sequences.append(i.get_sequence())\n",
    "    return reduce(lambda x,y : x+y, \n",
    "               reduce(lambda x,y : x+y, seg_sequences,[]),\n",
    "            '')\n",
    "\n",
    "def get_sequences(model):\n",
    "    seqs = []\n",
    "    for index,i in enumerate(model.strands):\n",
    "        print (i)\n",
    "        print (index)\n",
    "        seqs.append(get_strand_sequence(i))\n",
    "        print (get_strand_sequence(i))\n",
    "    return seqs"
   ]
  },
  {
   "cell_type": "code",
   "execution_count": 208,
   "metadata": {},
   "outputs": [],
   "source": [
    "#first we work out where the breaks should be using a graph traversal algorithm"
   ]
  },
  {
   "cell_type": "code",
   "execution_count": 371,
   "metadata": {},
   "outputs": [],
   "source": [
    "\n",
    "class face():\n",
    "    def __init__(self,vertices):\n",
    "        self.v = vertices\n",
    "        self.e = list(zip(self.v,np.roll(self.v,-1)))\n",
    "        self.ori = []\n",
    "\n",
    "        self.connections = list(zip(self.e,\n",
    "                                    map(tuple,np.roll(self.e,-1,axis = 0))))    \n",
    "    def apply_nick(self,nick):\n",
    "        self.nick = nick\n",
    "\n",
    "class edge():\n",
    "    def __init__(self,index,start,stop):\n",
    "        self.index = index\n",
    "        self.start = start\n",
    "        self.stop = stop\n",
    "        self.rawlen = np.sqrt(np.sum((np.array(stop)-np.array(start))**2))\n",
    "        \n",
    "    def normalize(self,min_length,bp):\n",
    "        \n",
    "        compress_factor = 0.1\n",
    "        \n",
    "        self.nStart = self.start / min_length * bp * 3.4\n",
    "        self.nStop = self.stop / min_length * bp * 3.4\n",
    "        \n",
    "        #a bit of compression to avoid collisions... TODO: be more strategic...\n",
    "        vector = self.nStop-self.nStart\n",
    "        self.nStart_c = self.nStart + vector * compress_factor \n",
    "        self.nStop_c  = self.nStop - vector * compress_factor\n",
    "        \n",
    "        self.nLen = np.sqrt(np.sum((np.array(self.nStop)-np.array(self.nStart))**2))\n",
    "        self.nBp = bp\n"
   ]
  },
  {
   "cell_type": "code",
   "execution_count": 372,
   "metadata": {},
   "outputs": [],
   "source": [
    "FNAME = '../ply_files/icosahedron.ply'"
   ]
  },
  {
   "cell_type": "code",
   "execution_count": 373,
   "metadata": {},
   "outputs": [],
   "source": [
    "LENGTH_OF_SMALLEST = 21"
   ]
  },
  {
   "cell_type": "code",
   "execution_count": 374,
   "metadata": {},
   "outputs": [],
   "source": [
    "\n",
    "locs,faces = read_ply(FNAME)\n",
    "\n",
    "mentioned_edges = set()\n",
    "face_data = [face(i) for i in faces]\n",
    "\n",
    "for i in face_data:\n",
    "    for e in i.e:\n",
    "        if e not in mentioned_edges and e[::-1] not in mentioned_edges:\n",
    "            i.ori.append(1)\n",
    "            mentioned_edges.add(e)\n",
    "        else:\n",
    "            i.ori.append(-1)\n",
    "\n",
    "edges = []\n",
    "\n",
    "for i in mentioned_edges:\n",
    "    edges.append(\n",
    "        edge(i,locs[i[0]],locs[i[1]])\n",
    "    )\n",
    "\n",
    "min_length = np.min([x.rawlen for x in edges])\n",
    "max_length = np.max([x.rawlen for x in edges])\n",
    "\n",
    "for i in edges:\n",
    "    i.normalize(min_length,LENGTH_OF_SMALLEST)"
   ]
  },
  {
   "cell_type": "code",
   "execution_count": 391,
   "metadata": {},
   "outputs": [],
   "source": [
    "def get_graph(face_data):\n",
    "\n",
    "    E_vals = [i.e for i in face_data]\n",
    "\n",
    "    graph = {}\n",
    "    \n",
    "    attached = []\n",
    "\n",
    "    for face_index,face in enumerate(E_vals):\n",
    "        graph[face_index] = []\n",
    "        for edge in face:\n",
    "            for other_edge_index,other_edge_list in enumerate(E_vals):\n",
    "                if (edge[::-1] in other_edge_list):\n",
    "                    graph[face_index].append(other_edge_index)\n",
    "    \n",
    "    return graph\n",
    "\n",
    "def get_break_index(face_data):\n",
    "    \n",
    "    graph = get_graph(face_data)\n",
    "\n",
    "    breaks = {}\n",
    "\n",
    "    face = 0\n",
    "    breaks[face] = graph[face][0]\n",
    "    \n",
    "    graph[face].remove(breaks[face])\n",
    "    graph[breaks[face]].remove(face)\n",
    "    \n",
    "    #now for everything in graph[face], let's assign it to break at 0\n",
    "        \n",
    "    \n",
    "    leading_edge = copy(graph[face])\n",
    "    \n",
    "    for l in leading_edge:\n",
    "        breaks[l] = face\n",
    "        \n",
    "    print (breaks)\n",
    "\n",
    "    while leading_edge != []:        \n",
    "        for face in copy(leading_edge):\n",
    "            for otherface in copy(graph[face]):\n",
    "                if otherface not in breaks.keys():\n",
    "\n",
    "                    leading_edge.append(copy(otherface))\n",
    "                    breaks[otherface] = copy(face)\n",
    "\n",
    "                    graph[face].remove(otherface)\n",
    "                    graph[otherface].remove(face)\n",
    "\n",
    "            leading_edge.remove(face)\n",
    "\n",
    "    return breaks\n",
    "\n",
    "def assign_nicks(face_data):\n",
    "\n",
    "    breaks = get_breaks(face_data)\n",
    "\n",
    "    E_vals = [i.e for i in face_data]\n",
    "\n",
    "    edge_dict = {}\n",
    "\n",
    "    for face1,edges_1 in enumerate(E_vals):\n",
    "        for edge in edges_1:\n",
    "            for face2,edges_2 in enumerate(E_vals):\n",
    "                if (edge[::-1] in edges_2 and edge not in edges_2):\n",
    "                    edge_dict[(face1,face2)] = edge\n",
    "\n",
    "    for b in breaks:\n",
    "        face_data[b].apply_nick(edge_dict[(b,breaks[b])])"
   ]
  },
  {
   "cell_type": "code",
   "execution_count": null,
   "metadata": {},
   "outputs": [],
   "source": []
  },
  {
   "cell_type": "code",
   "execution_count": null,
   "metadata": {},
   "outputs": [],
   "source": []
  },
  {
   "cell_type": "code",
   "execution_count": null,
   "metadata": {},
   "outputs": [],
   "source": []
  },
  {
   "cell_type": "code",
   "execution_count": null,
   "metadata": {},
   "outputs": [],
   "source": []
  },
  {
   "cell_type": "code",
   "execution_count": null,
   "metadata": {},
   "outputs": [],
   "source": []
  },
  {
   "cell_type": "code",
   "execution_count": null,
   "metadata": {},
   "outputs": [],
   "source": []
  },
  {
   "cell_type": "code",
   "execution_count": null,
   "metadata": {},
   "outputs": [],
   "source": []
  },
  {
   "cell_type": "code",
   "execution_count": null,
   "metadata": {},
   "outputs": [],
   "source": []
  },
  {
   "cell_type": "code",
   "execution_count": null,
   "metadata": {},
   "outputs": [],
   "source": []
  },
  {
   "cell_type": "code",
   "execution_count": null,
   "metadata": {},
   "outputs": [],
   "source": []
  },
  {
   "cell_type": "code",
   "execution_count": null,
   "metadata": {},
   "outputs": [],
   "source": []
  },
  {
   "cell_type": "code",
   "execution_count": null,
   "metadata": {},
   "outputs": [],
   "source": []
  },
  {
   "cell_type": "code",
   "execution_count": null,
   "metadata": {},
   "outputs": [],
   "source": []
  },
  {
   "cell_type": "code",
   "execution_count": null,
   "metadata": {},
   "outputs": [],
   "source": []
  },
  {
   "cell_type": "code",
   "execution_count": null,
   "metadata": {},
   "outputs": [],
   "source": []
  },
  {
   "cell_type": "code",
   "execution_count": null,
   "metadata": {},
   "outputs": [],
   "source": []
  },
  {
   "cell_type": "code",
   "execution_count": null,
   "metadata": {},
   "outputs": [],
   "source": []
  },
  {
   "cell_type": "code",
   "execution_count": null,
   "metadata": {},
   "outputs": [],
   "source": []
  },
  {
   "cell_type": "code",
   "execution_count": null,
   "metadata": {},
   "outputs": [],
   "source": []
  },
  {
   "cell_type": "code",
   "execution_count": null,
   "metadata": {},
   "outputs": [],
   "source": []
  },
  {
   "cell_type": "code",
   "execution_count": null,
   "metadata": {},
   "outputs": [],
   "source": []
  },
  {
   "cell_type": "code",
   "execution_count": null,
   "metadata": {},
   "outputs": [],
   "source": []
  },
  {
   "cell_type": "code",
   "execution_count": null,
   "metadata": {},
   "outputs": [],
   "source": []
  },
  {
   "cell_type": "code",
   "execution_count": null,
   "metadata": {},
   "outputs": [],
   "source": []
  },
  {
   "cell_type": "code",
   "execution_count": null,
   "metadata": {},
   "outputs": [],
   "source": []
  },
  {
   "cell_type": "code",
   "execution_count": null,
   "metadata": {},
   "outputs": [],
   "source": []
  },
  {
   "cell_type": "code",
   "execution_count": null,
   "metadata": {},
   "outputs": [],
   "source": []
  },
  {
   "cell_type": "code",
   "execution_count": null,
   "metadata": {},
   "outputs": [],
   "source": []
  },
  {
   "cell_type": "code",
   "execution_count": null,
   "metadata": {},
   "outputs": [],
   "source": []
  }
 ],
 "metadata": {
  "kernelspec": {
   "display_name": "Python 3",
   "language": "python",
   "name": "python3"
  },
  "language_info": {
   "codemirror_mode": {
    "name": "ipython",
    "version": 3
   },
   "file_extension": ".py",
   "mimetype": "text/x-python",
   "name": "python",
   "nbconvert_exporter": "python",
   "pygments_lexer": "ipython3",
   "version": "3.7.3"
  }
 },
 "nbformat": 4,
 "nbformat_minor": 2
}

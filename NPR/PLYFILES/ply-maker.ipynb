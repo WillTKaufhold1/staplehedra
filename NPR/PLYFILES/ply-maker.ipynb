{
 "cells": [
  {
   "cell_type": "code",
   "execution_count": 113,
   "metadata": {},
   "outputs": [],
   "source": [
    "import numpy as np\n",
    "import pandas as pd\n",
    "from itertools import cycle\n",
    "\n",
    "import matplotlib.pyplot as plt\n",
    "\n",
    "nmers = 8\n",
    "\n",
    "theta = np.arange(nmers)/float(nmers)*2*np.pi\n",
    "\n",
    "r = np.array([1,0.3,\n",
    "              1,0.3,\n",
    "              1,0.3,\n",
    "              1,0.3])\n",
    "\n",
    "x = np.cos(theta) * r \n",
    "y = np.sin(theta) * r\n",
    "\n",
    "plane = np.array(list(zip(x,y,np.zeros(len(x)))))\n",
    "top = np.array([[0,0,1]]) \n",
    "bot = np.array([[0,0,-1]])\n",
    "\n",
    "top_index = len(plane)\n",
    "bot_index = len(plane)+1\n",
    "\n",
    "# top range\n",
    "top_seqs = list(zip(np.arange(len(plane)),\n",
    "                    np.roll(np.arange(len(plane)),-1),\n",
    "                    top_index * np.ones(len(plane)).astype(int)\n",
    "                   ))\n",
    "\n",
    "bot_seqs = list(zip(np.arange(len(plane)),\n",
    "                    np.roll(np.arange(len(plane)),1),\n",
    "                    bot_index * np.ones(len(plane)).astype(int)\n",
    "                   ))"
   ]
  },
  {
   "cell_type": "code",
   "execution_count": 114,
   "metadata": {},
   "outputs": [],
   "source": [
    "seqs = top_seqs + bot_seqs"
   ]
  },
  {
   "cell_type": "code",
   "execution_count": 115,
   "metadata": {},
   "outputs": [],
   "source": [
    "locs = [list(plane) + list(top) + list(bot)][0]"
   ]
  },
  {
   "cell_type": "code",
   "execution_count": 116,
   "metadata": {},
   "outputs": [
    {
     "data": {
      "text/plain": [
       "[array([1., 0., 0.]),\n",
       " array([0.21213203, 0.21213203, 0.        ]),\n",
       " array([6.123234e-17, 1.000000e+00, 0.000000e+00]),\n",
       " array([-0.21213203,  0.21213203,  0.        ]),\n",
       " array([-1.0000000e+00,  1.2246468e-16,  0.0000000e+00]),\n",
       " array([-0.21213203, -0.21213203,  0.        ]),\n",
       " array([-1.8369702e-16, -1.0000000e+00,  0.0000000e+00]),\n",
       " array([ 0.21213203, -0.21213203,  0.        ]),\n",
       " array([0, 0, 1]),\n",
       " array([ 0,  0, -1])]"
      ]
     },
     "execution_count": 116,
     "metadata": {},
     "output_type": "execute_result"
    }
   ],
   "source": [
    "locs"
   ]
  },
  {
   "cell_type": "code",
   "execution_count": 117,
   "metadata": {},
   "outputs": [],
   "source": [
    "def write_ply_file(locs, seqs, outfile):\n",
    "    with open(outfile,'w+') as f:\n",
    "        f.write('ply\\nformat ascii 1.0\\nelement vertex %s\\nproperty float x\\nproperty float y\\nproperty float z\\nelement face %s\\nproperty list uint uint vertex_index\\nend_header\\n'%(len(locs),len(seqs),))\n",
    "        for i in locs:\n",
    "            f.write('%s %s %s\\n'%(i[0],i[1],i[2]))\n",
    "        for i in seqs:\n",
    "            f.write('%s %s %s %s\\n'%(len(i),i[0],i[1],i[2]))"
   ]
  },
  {
   "cell_type": "code",
   "execution_count": 118,
   "metadata": {},
   "outputs": [],
   "source": [
    "write_ply_file(locs,seqs,'outfile.ply')"
   ]
  },
  {
   "cell_type": "code",
   "execution_count": 119,
   "metadata": {},
   "outputs": [],
   "source": [
    "import plyfile"
   ]
  },
  {
   "cell_type": "code",
   "execution_count": 120,
   "metadata": {},
   "outputs": [
    {
     "data": {
      "text/plain": [
       "PlyData((PlyElement('vertex', (PlyProperty('x', 'float'), PlyProperty('y', 'float'), PlyProperty('z', 'float')), count=10, comments=[]), PlyElement('face', (PlyListProperty('vertex_index', 'uint', 'uint'),), count=16, comments=[])), text=True, byte_order='=', comments=[], obj_info=[])"
      ]
     },
     "execution_count": 120,
     "metadata": {},
     "output_type": "execute_result"
    }
   ],
   "source": [
    "plyfile.PlyData.read('./outfile.ply')"
   ]
  },
  {
   "cell_type": "code",
   "execution_count": 121,
   "metadata": {},
   "outputs": [
    {
     "data": {
      "text/plain": [
       "['PlyData',\n",
       " 'PlyElement',\n",
       " 'PlyElementParseError',\n",
       " 'PlyHeaderParseError',\n",
       " 'PlyListProperty',\n",
       " 'PlyParseError',\n",
       " 'PlyProperty',\n",
       " '_PlyHeaderParser',\n",
       " '__builtins__',\n",
       " '__cached__',\n",
       " '__doc__',\n",
       " '__file__',\n",
       " '__loader__',\n",
       " '__name__',\n",
       " '__package__',\n",
       " '__spec__',\n",
       " '_a',\n",
       " '_b',\n",
       " '_byte_order_map',\n",
       " '_byte_order_reverse',\n",
       " '_byteorder',\n",
       " '_can_mmap',\n",
       " '_check_comments',\n",
       " '_check_name',\n",
       " '_data_type_relation',\n",
       " '_data_type_reverse',\n",
       " '_data_types',\n",
       " '_islice',\n",
       " '_lookup_type',\n",
       " '_native_byte_order',\n",
       " '_np',\n",
       " '_open_stream',\n",
       " '_range',\n",
       " '_read_array',\n",
       " '_types_list',\n",
       " '_types_set',\n",
       " '_write_array',\n",
       " 'make2d']"
      ]
     },
     "execution_count": 121,
     "metadata": {},
     "output_type": "execute_result"
    }
   ],
   "source": [
    "dir(plyfile)"
   ]
  },
  {
   "cell_type": "code",
   "execution_count": null,
   "metadata": {},
   "outputs": [],
   "source": [
    "#bottom range"
   ]
  },
  {
   "cell_type": "code",
   "execution_count": null,
   "metadata": {},
   "outputs": [],
   "source": []
  },
  {
   "cell_type": "code",
   "execution_count": null,
   "metadata": {},
   "outputs": [],
   "source": []
  },
  {
   "cell_type": "code",
   "execution_count": null,
   "metadata": {},
   "outputs": [],
   "source": []
  },
  {
   "cell_type": "code",
   "execution_count": null,
   "metadata": {},
   "outputs": [],
   "source": []
  },
  {
   "cell_type": "code",
   "execution_count": null,
   "metadata": {},
   "outputs": [],
   "source": []
  },
  {
   "cell_type": "code",
   "execution_count": null,
   "metadata": {},
   "outputs": [],
   "source": []
  },
  {
   "cell_type": "code",
   "execution_count": null,
   "metadata": {},
   "outputs": [],
   "source": []
  },
  {
   "cell_type": "code",
   "execution_count": null,
   "metadata": {},
   "outputs": [],
   "source": []
  }
 ],
 "metadata": {
  "kernelspec": {
   "display_name": "Python 3",
   "language": "python",
   "name": "python3"
  },
  "language_info": {
   "codemirror_mode": {
    "name": "ipython",
    "version": 3
   },
   "file_extension": ".py",
   "mimetype": "text/x-python",
   "name": "python",
   "nbconvert_exporter": "python",
   "pygments_lexer": "ipython3",
   "version": "3.7.3"
  }
 },
 "nbformat": 4,
 "nbformat_minor": 2
}

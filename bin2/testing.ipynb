{
 "cells": [
  {
   "cell_type": "code",
   "execution_count": 204,
   "metadata": {},
   "outputs": [],
   "source": [
    "import segment_maker\n",
    "from functools import reduce\n",
    "import mrdna\n",
    "import numpy as np\n",
    "\n",
    "\n",
    "def m13seq():\n",
    "    from functools import reduce\n",
    "    with open('../m13mp18.dat','r') as f:\n",
    "        data = f.readlines()\n",
    "    filtered = list(filter(lambda x : x[0] != ';',data))\n",
    "    stripped = list(map(lambda x : x.replace(' ','').replace('\\n',''), filtered))\n",
    "    accumulalted = str(reduce( lambda x,y : x + y, stripped, ''))\n",
    "    return accumulalted"
   ]
  },
  {
   "cell_type": "code",
   "execution_count": 205,
   "metadata": {},
   "outputs": [],
   "source": [
    "def get_strand_sequence(strand):\n",
    "    seg_sequences = []\n",
    "    for i in strand.strand_segments:\n",
    "        seg_sequences.append(i.get_sequence())\n",
    "    return reduce(lambda x,y : x+y, \n",
    "               reduce(lambda x,y : x+y, seg_sequences,[]),\n",
    "            '')\n",
    "\n",
    "def get_sequences(model):\n",
    "    seqs = []\n",
    "    for index,i in enumerate(model.strands):\n",
    "        print (i)\n",
    "        print (index)\n",
    "        seqs.append(get_strand_sequence(i))\n",
    "        print (get_strand_sequence(i))\n",
    "    return seqs"
   ]
  },
  {
   "cell_type": "code",
   "execution_count": 206,
   "metadata": {},
   "outputs": [],
   "source": [
    "#first we work out where the breaks should be using a graph traversal algorithm"
   ]
  },
  {
   "cell_type": "code",
   "execution_count": 207,
   "metadata": {},
   "outputs": [],
   "source": [
    "from segment_maker import read_ply"
   ]
  },
  {
   "cell_type": "code",
   "execution_count": 208,
   "metadata": {},
   "outputs": [
    {
     "data": {
      "text/plain": [
       "[<DoubleStrandedSegment'> helix0[21]>,\n",
       " <DoubleStrandedSegment'> helix1[21]>,\n",
       " <DoubleStrandedSegment'> helix2[21]>,\n",
       " <DoubleStrandedSegment'> helix3[21]>,\n",
       " <DoubleStrandedSegment'> helix4[21]>,\n",
       " <DoubleStrandedSegment'> helix5[21]>,\n",
       " <DoubleStrandedSegment'> helix6[21]>,\n",
       " <DoubleStrandedSegment'> helix7[21]>,\n",
       " <DoubleStrandedSegment'> helix8[21]>,\n",
       " <DoubleStrandedSegment'> helix9[21]>,\n",
       " <DoubleStrandedSegment'> helix10[21]>,\n",
       " <DoubleStrandedSegment'> helix11[21]>]"
      ]
     },
     "execution_count": 208,
     "metadata": {},
     "output_type": "execute_result"
    }
   ],
   "source": [
    "segment_maker.get_segments('../ply_files/cube.ply',21,0)"
   ]
  },
  {
   "cell_type": "code",
   "execution_count": null,
   "metadata": {},
   "outputs": [],
   "source": []
  },
  {
   "cell_type": "code",
   "execution_count": 214,
   "metadata": {},
   "outputs": [],
   "source": [
    "\n",
    "class face():\n",
    "    def __init__(self,vertices):\n",
    "        self.v = vertices\n",
    "        self.e = list(zip(self.v,np.roll(self.v,-1)))\n",
    "        self.ori = []\n",
    "\n",
    "        self.connections = list(zip(self.e,\n",
    "                                    map(tuple,np.roll(self.e,-1,axis = 0))))    \n",
    "\n",
    "class edge():\n",
    "    def __init__(self,index,start,stop):\n",
    "        self.index = index\n",
    "        self.start = start\n",
    "        self.stop = stop\n",
    "        self.rawlen = np.sqrt(np.sum((np.array(stop)-np.array(start))**2))\n",
    "        \n",
    "    def normalize(self,min_length,bp):\n",
    "        \n",
    "        compress_factor = 0.1\n",
    "        \n",
    "        self.nStart = self.start / min_length * bp * 3.4\n",
    "        self.nStop = self.stop / min_length * bp * 3.4\n",
    "        \n",
    "        #a bit of compression to avoid collisions... TODO: be more strategic...\n",
    "        vector = self.nStop-self.nStart\n",
    "        self.nStart_c = self.nStart + vector * compress_factor \n",
    "        self.nStop_c  = self.nStop - vector * compress_factor\n",
    "        \n",
    "        self.nLen = np.sqrt(np.sum((np.array(self.nStop)-np.array(self.nStart))**2))\n",
    "        self.nBp = bp\n"
   ]
  },
  {
   "cell_type": "code",
   "execution_count": 215,
   "metadata": {},
   "outputs": [],
   "source": [
    "FNAME = '../ply_files/cube.ply'"
   ]
  },
  {
   "cell_type": "code",
   "execution_count": 216,
   "metadata": {},
   "outputs": [],
   "source": [
    "LENGTH_OF_SMALLEST = 21"
   ]
  },
  {
   "cell_type": "code",
   "execution_count": 217,
   "metadata": {},
   "outputs": [],
   "source": [
    "\n",
    "locs,faces = read_ply(FNAME)\n",
    "\n",
    "mentioned_edges = set()\n",
    "face_data = [face(i) for i in faces]\n",
    "\n",
    "for i in face_data:\n",
    "    for e in i.e:\n",
    "        if e not in mentioned_edges and e[::-1] not in mentioned_edges:\n",
    "            i.ori.append(1)\n",
    "            mentioned_edges.add(e)\n",
    "        else:\n",
    "            i.ori.append(-1)\n",
    "\n",
    "edges = []\n",
    "\n",
    "for i in mentioned_edges:\n",
    "    edges.append(\n",
    "        edge(i,locs[i[0]],locs[i[1]])\n",
    "    )\n",
    "\n",
    "min_length = np.min([x.rawlen for x in edges])\n",
    "max_length = np.max([x.rawlen for x in edges])\n",
    "\n",
    "for i in edges:\n",
    "    i.normalize(min_length,LENGTH_OF_SMALLEST)"
   ]
  },
  {
   "cell_type": "code",
   "execution_count": 221,
   "metadata": {},
   "outputs": [],
   "source": [
    "#use a dictionary to represent the graph data"
   ]
  },
  {
   "cell_type": "code",
   "execution_count": 222,
   "metadata": {},
   "outputs": [],
   "source": [
    "#index faces by integers"
   ]
  },
  {
   "cell_type": "code",
   "execution_count": 225,
   "metadata": {},
   "outputs": [],
   "source": [
    "face_graph = {}"
   ]
  },
  {
   "cell_type": "code",
   "execution_count": 227,
   "metadata": {},
   "outputs": [
    {
     "data": {
      "text/plain": [
       "[(0, 1), (1, 2), (2, 3), (3, 0)]"
      ]
     },
     "execution_count": 227,
     "metadata": {},
     "output_type": "execute_result"
    }
   ],
   "source": [
    "face_data[0].e"
   ]
  },
  {
   "cell_type": "code",
   "execution_count": 228,
   "metadata": {},
   "outputs": [],
   "source": [
    "relevant_edges = []"
   ]
  },
  {
   "cell_type": "code",
   "execution_count": null,
   "metadata": {},
   "outputs": [],
   "source": [
    "for i in face_data:\n",
    "    "
   ]
  },
  {
   "cell_type": "code",
   "execution_count": null,
   "metadata": {},
   "outputs": [],
   "source": []
  },
  {
   "cell_type": "code",
   "execution_count": null,
   "metadata": {},
   "outputs": [],
   "source": []
  },
  {
   "cell_type": "code",
   "execution_count": null,
   "metadata": {},
   "outputs": [],
   "source": []
  },
  {
   "cell_type": "code",
   "execution_count": null,
   "metadata": {},
   "outputs": [],
   "source": []
  },
  {
   "cell_type": "code",
   "execution_count": null,
   "metadata": {},
   "outputs": [],
   "source": []
  },
  {
   "cell_type": "code",
   "execution_count": null,
   "metadata": {},
   "outputs": [],
   "source": []
  },
  {
   "cell_type": "code",
   "execution_count": null,
   "metadata": {},
   "outputs": [],
   "source": []
  },
  {
   "cell_type": "code",
   "execution_count": 223,
   "metadata": {},
   "outputs": [
    {
     "data": {
      "text/plain": [
       "[(0, 1), (1, 2), (2, 3), (3, 0)]"
      ]
     },
     "execution_count": 223,
     "metadata": {},
     "output_type": "execute_result"
    }
   ],
   "source": [
    "face_data[0].e"
   ]
  },
  {
   "cell_type": "code",
   "execution_count": 224,
   "metadata": {},
   "outputs": [
    {
     "data": {
      "text/plain": [
       "[(0, 3), (3, 4), (4, 5), (5, 0)]"
      ]
     },
     "execution_count": 224,
     "metadata": {},
     "output_type": "execute_result"
    }
   ],
   "source": [
    "face_data[1].e"
   ]
  },
  {
   "cell_type": "code",
   "execution_count": null,
   "metadata": {},
   "outputs": [],
   "source": []
  },
  {
   "cell_type": "code",
   "execution_count": null,
   "metadata": {},
   "outputs": [],
   "source": []
  },
  {
   "cell_type": "code",
   "execution_count": null,
   "metadata": {},
   "outputs": [],
   "source": []
  },
  {
   "cell_type": "code",
   "execution_count": null,
   "metadata": {},
   "outputs": [],
   "source": []
  },
  {
   "cell_type": "code",
   "execution_count": null,
   "metadata": {},
   "outputs": [],
   "source": []
  },
  {
   "cell_type": "code",
   "execution_count": null,
   "metadata": {},
   "outputs": [],
   "source": [
    "segs_list = segment_maker.get_segments('../ply_files/cube.ply',\n",
    "                                     21,0)"
   ]
  },
  {
   "cell_type": "code",
   "execution_count": 188,
   "metadata": {},
   "outputs": [],
   "source": [
    "segs_list[0].add_nick(0)\n",
    "segs_list[0].add_nick(2)"
   ]
  },
  {
   "cell_type": "code",
   "execution_count": 189,
   "metadata": {},
   "outputs": [],
   "source": [
    "\n",
    "model = mrdna.SegmentModel(\n",
    "                    segs_list,\n",
    "                    local_twist = True,\n",
    "                    dimensions=(5000,5000,5000),\n",
    "                )\n",
    "#apply sequence here\n",
    "\n",
    "model.set_sequence(m13seq(),force=False)"
   ]
  },
  {
   "cell_type": "code",
   "execution_count": 190,
   "metadata": {},
   "outputs": [
    {
     "name": "stdout",
     "output_type": "stream",
     "text": [
      "<Strand S006(84)>\n",
      "0\n",
      "ATTTAACCAGGGATGAGGTTGTGCATAAGGCTTATTAGGCTATAAGAGCACCTCACTGGACAATCGATGCCTCTGACAGGATAC\n",
      "<Strand S005(84)>\n",
      "1\n",
      "AGTCCGAGGTTAAAGCTGATGTAGCCTAATAAGCCTTATGCAGGTTTTACAGTGAGGGTCGTCCACGGTTATATAATTTGGTCA\n",
      "<Strand S004(84)>\n",
      "2\n",
      "CATCAGCTTTAACCTCGGACTGTCCTGCAAGCCTTCCACACCTCGCTAGCGATAGAGCAGTGGTTGTCCAGTGAGGTGCTCTTA\n",
      "<Strand S003(84)>\n",
      "3\n",
      "TTCTGAAGTCACTGTTAGTGGATGTAGCGAGATTCTGCCGCAGGTGTGGAAGGCTTGCAGGACTGACCAAATTATATAACCGTG\n",
      "<Strand S002(84)>\n",
      "4\n",
      "GCATACGGTGGCCCATCTGTGGTATCCTGTCAGAGGCATCGACCACTGCTCTATCGCTAGCGATGCGGCAGAATCTCGCTACAT\n",
      "<Strand S001(82)>\n",
      "5\n",
      "AGATGGGCCACCGTATGCCCACTAACAGTGACTTCAGAAGACGACCCTCACTGTAAAACCCAACCTCATCCCTGGTTAAATC\n",
      "<Strand S000(2)>\n",
      "6\n",
      "AC\n"
     ]
    },
    {
     "data": {
      "text/plain": [
       "['ATTTAACCAGGGATGAGGTTGTGCATAAGGCTTATTAGGCTATAAGAGCACCTCACTGGACAATCGATGCCTCTGACAGGATAC',\n",
       " 'AGTCCGAGGTTAAAGCTGATGTAGCCTAATAAGCCTTATGCAGGTTTTACAGTGAGGGTCGTCCACGGTTATATAATTTGGTCA',\n",
       " 'CATCAGCTTTAACCTCGGACTGTCCTGCAAGCCTTCCACACCTCGCTAGCGATAGAGCAGTGGTTGTCCAGTGAGGTGCTCTTA',\n",
       " 'TTCTGAAGTCACTGTTAGTGGATGTAGCGAGATTCTGCCGCAGGTGTGGAAGGCTTGCAGGACTGACCAAATTATATAACCGTG',\n",
       " 'GCATACGGTGGCCCATCTGTGGTATCCTGTCAGAGGCATCGACCACTGCTCTATCGCTAGCGATGCGGCAGAATCTCGCTACAT',\n",
       " 'AGATGGGCCACCGTATGCCCACTAACAGTGACTTCAGAAGACGACCCTCACTGTAAAACCCAACCTCATCCCTGGTTAAATC',\n",
       " 'AC']"
      ]
     },
     "execution_count": 190,
     "metadata": {},
     "output_type": "execute_result"
    }
   ],
   "source": [
    "get_sequences(model)"
   ]
  },
  {
   "cell_type": "code",
   "execution_count": null,
   "metadata": {},
   "outputs": [],
   "source": []
  },
  {
   "cell_type": "code",
   "execution_count": null,
   "metadata": {},
   "outputs": [],
   "source": []
  },
  {
   "cell_type": "code",
   "execution_count": null,
   "metadata": {},
   "outputs": [],
   "source": []
  },
  {
   "cell_type": "code",
   "execution_count": 137,
   "metadata": {},
   "outputs": [
    {
     "data": {
      "text/plain": [
       "<DoubleStrandedSegment'> helix0[21]>"
      ]
     },
     "execution_count": 137,
     "metadata": {},
     "output_type": "execute_result"
    }
   ],
   "source": [
    "segs_list[0]"
   ]
  },
  {
   "cell_type": "code",
   "execution_count": 118,
   "metadata": {},
   "outputs": [],
   "source": [
    "s = segs_list[0]\n",
    "\n",
    "#creation of two subhelices\n",
    "\n",
    "end_1 = s.start_position + 10/float(s.num_nt) * (s.end_position - s.start_position)\n",
    "\n",
    "s_0 = mrdna.DoubleStrandedSegment(\n",
    "    start_postiion = s.start_position,\n",
    "    end_postion = end_1,\n",
    "    num_bp = 10,\n",
    "    name = 's0'\n",
    ")\n",
    "\n",
    "s_1 = mrdna.DoubleStrandedSegment(\n",
    "    start_postiion = end_1,\n",
    "    end_postion = s.end_position,\n",
    "    num_bp = s.num_nt - 10,\n",
    "    name = 's1'\n",
    ")"
   ]
  },
  {
   "cell_type": "code",
   "execution_count": null,
   "metadata": {},
   "outputs": [],
   "source": []
  },
  {
   "cell_type": "code",
   "execution_count": 119,
   "metadata": {},
   "outputs": [
    {
     "name": "stdout",
     "output_type": "stream",
     "text": [
      "A\n"
     ]
    }
   ],
   "source": [
    "#binding of subhelices to whatever the helix used to be bound to.\n",
    "\n",
    "#first, reproduce our existing crossovers!\n",
    "\n",
    "conn = s.connections\n",
    "\n",
    "#first we see the helix we are breaking is called A or called B.\n",
    "if conn[0].A.container == s:\n",
    "    print ('A')\n",
    "    \n",
    "elif conn[0].A.container == s:\n",
    "    print ('B')\n",
    "else:\n",
    "    raise Exception(\"Bug\")"
   ]
  },
  {
   "cell_type": "code",
   "execution_count": 125,
   "metadata": {},
   "outputs": [
    {
     "data": {
      "text/plain": [
       "<Connection <Location helix0.end3[1.00,1]>--terminal_crossover--<Location helix1.end5[0.00,1]>]>"
      ]
     },
     "execution_count": 125,
     "metadata": {},
     "output_type": "execute_result"
    }
   ],
   "source": [
    "conn[0].A.connection"
   ]
  },
  {
   "cell_type": "code",
   "execution_count": 123,
   "metadata": {},
   "outputs": [],
   "source": [
    "#N.B: everything is a terminal crossover"
   ]
  },
  {
   "cell_type": "code",
   "execution_count": 120,
   "metadata": {},
   "outputs": [
    {
     "data": {
      "text/plain": [
       "<DoubleStrandedSegment'> helix0[21]>"
      ]
     },
     "execution_count": 120,
     "metadata": {},
     "output_type": "execute_result"
    }
   ],
   "source": [
    "conn[0].A.container"
   ]
  },
  {
   "cell_type": "code",
   "execution_count": 124,
   "metadata": {},
   "outputs": [
    {
     "data": {
      "text/plain": [
       "mrdna.segmentmodel.Connection"
      ]
     },
     "execution_count": 124,
     "metadata": {},
     "output_type": "execute_result"
    }
   ],
   "source": [
    "type(conn[0])"
   ]
  },
  {
   "cell_type": "code",
   "execution_count": 121,
   "metadata": {},
   "outputs": [
    {
     "data": {
      "text/plain": [
       "<DoubleStrandedSegment'> helix1[21]>"
      ]
     },
     "execution_count": 121,
     "metadata": {},
     "output_type": "execute_result"
    }
   ],
   "source": [
    "conn[0].B.container"
   ]
  },
  {
   "cell_type": "code",
   "execution_count": 122,
   "metadata": {},
   "outputs": [
    {
     "data": {
      "text/plain": [
       "[<Connection <Location helix0.end3[1.00,1]>--terminal_crossover--<Location helix1.end5[0.00,1]>]>,\n",
       " <Connection <Location helix4.end3[1.00,1]>--terminal_crossover--<Location helix0.end5[0.00,1]>]>,\n",
       " <Connection <Location helix7.end3[1.00,1]>--terminal_crossover--<Location helix0.end5[1.00,0]>]>,\n",
       " <Connection <Location helix0.end3[0.00,0]>--terminal_crossover--<Location helix9.end5[1.00,0]>]>]"
      ]
     },
     "execution_count": 122,
     "metadata": {},
     "output_type": "execute_result"
    }
   ],
   "source": [
    "conn"
   ]
  },
  {
   "cell_type": "code",
   "execution_count": 4,
   "metadata": {},
   "outputs": [],
   "source": [
    "\n",
    "model = mrdna.SegmentModel(\n",
    "                    segs_list,\n",
    "                    local_twist = True,\n",
    "                    dimensions=(5000,5000,5000),\n",
    "                )\n",
    "#apply sequence here\n",
    "\n",
    "model.set_sequence(m13seq(),force=False)\n"
   ]
  },
  {
   "cell_type": "code",
   "execution_count": null,
   "metadata": {},
   "outputs": [],
   "source": []
  },
  {
   "cell_type": "code",
   "execution_count": null,
   "metadata": {},
   "outputs": [],
   "source": []
  },
  {
   "cell_type": "code",
   "execution_count": null,
   "metadata": {},
   "outputs": [],
   "source": []
  },
  {
   "cell_type": "code",
   "execution_count": null,
   "metadata": {},
   "outputs": [],
   "source": []
  },
  {
   "cell_type": "code",
   "execution_count": null,
   "metadata": {},
   "outputs": [],
   "source": []
  },
  {
   "cell_type": "code",
   "execution_count": null,
   "metadata": {},
   "outputs": [],
   "source": []
  },
  {
   "cell_type": "code",
   "execution_count": null,
   "metadata": {},
   "outputs": [],
   "source": []
  },
  {
   "cell_type": "code",
   "execution_count": null,
   "metadata": {},
   "outputs": [],
   "source": []
  },
  {
   "cell_type": "code",
   "execution_count": null,
   "metadata": {},
   "outputs": [],
   "source": []
  },
  {
   "cell_type": "code",
   "execution_count": null,
   "metadata": {},
   "outputs": [],
   "source": []
  }
 ],
 "metadata": {
  "kernelspec": {
   "display_name": "Python 3",
   "language": "python",
   "name": "python3"
  },
  "language_info": {
   "codemirror_mode": {
    "name": "ipython",
    "version": 3
   },
   "file_extension": ".py",
   "mimetype": "text/x-python",
   "name": "python",
   "nbconvert_exporter": "python",
   "pygments_lexer": "ipython3",
   "version": "3.7.3"
  }
 },
 "nbformat": 4,
 "nbformat_minor": 2
}

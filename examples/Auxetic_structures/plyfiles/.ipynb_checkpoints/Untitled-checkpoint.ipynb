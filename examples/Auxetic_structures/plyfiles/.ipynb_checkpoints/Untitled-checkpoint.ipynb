{
 "cells": [
  {
   "cell_type": "code",
   "execution_count": 49,
   "metadata": {},
   "outputs": [],
   "source": [
    "import numpy as np\n",
    "import pandas as pd\n",
    "import matplotlib.pyplot as plt\n",
    "%matplotlib inline"
   ]
  },
  {
   "cell_type": "code",
   "execution_count": 50,
   "metadata": {},
   "outputs": [],
   "source": [
    "def get_locations():\n",
    "\n",
    "    l = 0.3\n",
    "    \n",
    "    theta = np.arange(8)*2*np.pi / 8.\n",
    "\n",
    "    r = np.array([1,l,1,l,1,l,1,l])\n",
    "    \n",
    "    x = r*np.cos(theta) \n",
    "    y = r*np.sin(theta)\n",
    "    z = np.zeros(len(x))\n",
    "    \n",
    "    coords = list(zip(x,y,z))\n",
    "    \n",
    "    top = [[0,0,1]]\n",
    "    bot = [[0,0,-1]]\n",
    "    \n",
    "    return coords + top + bot"
   ]
  },
  {
   "cell_type": "code",
   "execution_count": 51,
   "metadata": {},
   "outputs": [],
   "source": [
    "def get_faces():\n",
    "    \n",
    "    index_base = np.arange(8)\n",
    "    index_top = 8\n",
    "    index_bot = 9\n",
    "    \n",
    "    top_faces = list(zip(np.roll(index_base,1),index_base,(np.ones(len(index_base))*index_top).astype(dtype=int)))\n",
    "    bot_faces = list(zip(np.roll(index_base,-1),index_base,(np.ones(len(index_base))*index_bot).astype(dtype=int)))\n",
    "    return top_faces + bot_faces"
   ]
  },
  {
   "cell_type": "code",
   "execution_count": 52,
   "metadata": {},
   "outputs": [],
   "source": [
    "vertices,faces = (get_locations(),get_faces())"
   ]
  },
  {
   "cell_type": "code",
   "execution_count": 53,
   "metadata": {},
   "outputs": [],
   "source": [
    "with open('out.ply','w+') as f:\n",
    "    f.write('ply\\nformat ascii 1.0\\nelement vertex %s\\nproperty float x\\nproperty float y\\nproperty float z\\nelement face %s\\nproperty list uint uint vertex_index\\nend_header\\n'%(len(vertices),len(faces)))\n",
    "    for v in vertices:\n",
    "        f.write(\"%s %s %s\\n\"%(v[0],v[1],v[2],))\n",
    "    for face in faces:\n",
    "        f.write(\"%s %s %s %s\\n\"%(len(face),face[0],face[1],face[2]))\n",
    "    "
   ]
  },
  {
   "cell_type": "code",
   "execution_count": null,
   "metadata": {},
   "outputs": [],
   "source": []
  },
  {
   "cell_type": "code",
   "execution_count": null,
   "metadata": {},
   "outputs": [],
   "source": []
  }
 ],
 "metadata": {
  "kernelspec": {
   "display_name": "Python 3",
   "language": "python",
   "name": "python3"
  },
  "language_info": {
   "codemirror_mode": {
    "name": "ipython",
    "version": 3
   },
   "file_extension": ".py",
   "mimetype": "text/x-python",
   "name": "python",
   "nbconvert_exporter": "python",
   "pygments_lexer": "ipython3",
   "version": "3.7.3"
  }
 },
 "nbformat": 4,
 "nbformat_minor": 2
}
